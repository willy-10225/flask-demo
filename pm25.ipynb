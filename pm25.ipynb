{
 "cells": [
  {
   "cell_type": "code",
   "execution_count": 2,
   "metadata": {},
   "outputs": [],
   "source": [
    "import pandas as pd"
   ]
  },
  {
   "cell_type": "code",
   "execution_count": 3,
   "metadata": {},
   "outputs": [],
   "source": [
    "url='https://sta.ci.taiwan.gov.tw/STA_AirQuality_v2/v1.0/Datastreams?$expand=Thing,Observations($orderby=phenomenonTime%20desc;$top=1)&$filter=name%20eq%20%27PM2.5%27%20and%20Thing/properties/authority%20eq%20%27%E8%A1%8C%E6%94%BF%E9%99%A2%E7%92%B0%E5%A2%83%E4%BF%9D%E8%AD%B7%E7%BD%B2%27%20and%20substringof(%27%E7%A9%BA%E6%B0%A3%E5%93%81%E8%B3%AA%E6%B8%AC%E7%AB%99%27,Thing/name)&$count=true'"
   ]
  },
  {
   "cell_type": "code",
   "execution_count": 5,
   "metadata": {},
   "outputs": [
    {
     "data": {
      "text/plain": [
       "0     {'description': '細懸浮微粒 PM2.5', '@iot.id': 11, ...\n",
       "1     {'description': '細懸浮微粒 PM2.5', '@iot.id': 29, ...\n",
       "2     {'description': '細懸浮微粒 PM2.5', '@iot.id': 47, ...\n",
       "3     {'description': '細懸浮微粒 PM2.5', '@iot.id': 65, ...\n",
       "4     {'description': '細懸浮微粒 PM2.5', '@iot.id': 83, ...\n",
       "                            ...                        \n",
       "72    {'description': '細懸浮微粒 PM2.5', '@iot.id': 1307...\n",
       "73    {'description': '細懸浮微粒 PM2.5', '@iot.id': 1325...\n",
       "74    {'description': '細懸浮微粒 PM2.5', '@iot.id': 1343...\n",
       "75    {'description': '細懸浮微粒 PM2.5', '@iot.id': 1361...\n",
       "76    {'description': '細懸浮微粒 PM2.5', '@iot.id': 1379...\n",
       "Name: value, Length: 77, dtype: object"
      ]
     },
     "execution_count": 5,
     "metadata": {},
     "output_type": "execute_result"
    }
   ],
   "source": [
    "datas=pd.read_json(url)['value']\n",
    "datas"
   ]
  },
  {
   "cell_type": "markdown",
   "metadata": {},
   "source": [
    "## 取得縣市和站點"
   ]
  },
  {
   "cell_type": "code",
   "execution_count": 10,
   "metadata": {},
   "outputs": [
    {
     "data": {
      "text/plain": [
       "('基隆市', '基隆')"
      ]
     },
     "execution_count": 10,
     "metadata": {},
     "output_type": "execute_result"
    }
   ],
   "source": [
    "city,stationName=datas[0]['Thing']['properties']['city'],datas[0]['Thing']['properties']['stationName']\n",
    "city,stationName"
   ]
  },
  {
   "cell_type": "markdown",
   "metadata": {},
   "source": [
    "## 取PM2.5和時間"
   ]
  },
  {
   "cell_type": "code",
   "execution_count": 14,
   "metadata": {},
   "outputs": [
    {
     "data": {
      "text/plain": [
       "(11, '2022-06-19T05:00:00.000Z')"
      ]
     },
     "execution_count": 14,
     "metadata": {},
     "output_type": "execute_result"
    }
   ],
   "source": [
    "result,resultTime=datas[0]['Observations'][0]['result'],datas[0]['Observations'][0]['resultTime']\n",
    "result,resultTime"
   ]
  },
  {
   "cell_type": "markdown",
   "metadata": {},
   "source": [
    "# 輸出所有站點資料"
   ]
  },
  {
   "cell_type": "code",
   "execution_count": 17,
   "metadata": {},
   "outputs": [
    {
     "data": {
      "text/html": [
       "<div>\n",
       "<style scoped>\n",
       "    .dataframe tbody tr th:only-of-type {\n",
       "        vertical-align: middle;\n",
       "    }\n",
       "\n",
       "    .dataframe tbody tr th {\n",
       "        vertical-align: top;\n",
       "    }\n",
       "\n",
       "    .dataframe thead th {\n",
       "        text-align: right;\n",
       "    }\n",
       "</style>\n",
       "<table border=\"1\" class=\"dataframe\">\n",
       "  <thead>\n",
       "    <tr style=\"text-align: right;\">\n",
       "      <th></th>\n",
       "      <th>city</th>\n",
       "      <th>stationName</th>\n",
       "      <th>result</th>\n",
       "      <th>resultTime</th>\n",
       "    </tr>\n",
       "  </thead>\n",
       "  <tbody>\n",
       "    <tr>\n",
       "      <th>0</th>\n",
       "      <td>基隆市</td>\n",
       "      <td>基隆</td>\n",
       "      <td>11</td>\n",
       "      <td>2022-06-19T05:00:00.000Z</td>\n",
       "    </tr>\n",
       "    <tr>\n",
       "      <th>1</th>\n",
       "      <td>新北市</td>\n",
       "      <td>汐止</td>\n",
       "      <td>13</td>\n",
       "      <td>2022-06-19T05:00:00.000Z</td>\n",
       "    </tr>\n",
       "    <tr>\n",
       "      <th>2</th>\n",
       "      <td>新北市</td>\n",
       "      <td>萬里</td>\n",
       "      <td>17</td>\n",
       "      <td>2022-06-19T05:00:00.000Z</td>\n",
       "    </tr>\n",
       "    <tr>\n",
       "      <th>3</th>\n",
       "      <td>新北市</td>\n",
       "      <td>新店</td>\n",
       "      <td>12</td>\n",
       "      <td>2022-06-19T05:00:00.000Z</td>\n",
       "    </tr>\n",
       "    <tr>\n",
       "      <th>4</th>\n",
       "      <td>新北市</td>\n",
       "      <td>土城</td>\n",
       "      <td>8</td>\n",
       "      <td>2022-06-19T05:00:00.000Z</td>\n",
       "    </tr>\n",
       "    <tr>\n",
       "      <th>...</th>\n",
       "      <td>...</td>\n",
       "      <td>...</td>\n",
       "      <td>...</td>\n",
       "      <td>...</td>\n",
       "    </tr>\n",
       "    <tr>\n",
       "      <th>72</th>\n",
       "      <td>臺東縣</td>\n",
       "      <td>關山</td>\n",
       "      <td>5</td>\n",
       "      <td>2022-06-19T05:00:00.000Z</td>\n",
       "    </tr>\n",
       "    <tr>\n",
       "      <th>73</th>\n",
       "      <td>金門縣</td>\n",
       "      <td>金門</td>\n",
       "      <td>13</td>\n",
       "      <td>2022-06-19T05:00:00.000Z</td>\n",
       "    </tr>\n",
       "    <tr>\n",
       "      <th>74</th>\n",
       "      <td>連江縣</td>\n",
       "      <td>馬祖</td>\n",
       "      <td>12</td>\n",
       "      <td>2022-06-19T05:00:00.000Z</td>\n",
       "    </tr>\n",
       "    <tr>\n",
       "      <th>75</th>\n",
       "      <td>澎湖縣</td>\n",
       "      <td>馬公</td>\n",
       "      <td>15</td>\n",
       "      <td>2022-06-19T05:00:00.000Z</td>\n",
       "    </tr>\n",
       "    <tr>\n",
       "      <th>76</th>\n",
       "      <td>雲林縣</td>\n",
       "      <td>麥寮</td>\n",
       "      <td>11</td>\n",
       "      <td>2022-06-19T05:00:00.000Z</td>\n",
       "    </tr>\n",
       "  </tbody>\n",
       "</table>\n",
       "<p>77 rows × 4 columns</p>\n",
       "</div>"
      ],
      "text/plain": [
       "   city stationName  result                resultTime\n",
       "0   基隆市          基隆      11  2022-06-19T05:00:00.000Z\n",
       "1   新北市          汐止      13  2022-06-19T05:00:00.000Z\n",
       "2   新北市          萬里      17  2022-06-19T05:00:00.000Z\n",
       "3   新北市          新店      12  2022-06-19T05:00:00.000Z\n",
       "4   新北市          土城       8  2022-06-19T05:00:00.000Z\n",
       "..  ...         ...     ...                       ...\n",
       "72  臺東縣          關山       5  2022-06-19T05:00:00.000Z\n",
       "73  金門縣          金門      13  2022-06-19T05:00:00.000Z\n",
       "74  連江縣          馬祖      12  2022-06-19T05:00:00.000Z\n",
       "75  澎湖縣          馬公      15  2022-06-19T05:00:00.000Z\n",
       "76  雲林縣          麥寮      11  2022-06-19T05:00:00.000Z\n",
       "\n",
       "[77 rows x 4 columns]"
      ]
     },
     "execution_count": 17,
     "metadata": {},
     "output_type": "execute_result"
    }
   ],
   "source": [
    "all=[]\n",
    "for data in datas:\n",
    "    city,stationName=data['Thing']['properties']['city'],data['Thing']['properties']['stationName']\n",
    "    result,resultTime=data['Observations'][0]['result'],data['Observations'][0]['resultTime']\n",
    "    all.append([city,stationName,result,resultTime])\n",
    "df1=pd.DataFrame(data=all,columns=['city','stationName','result','resultTime'])\n",
    "df1"
   ]
  },
  {
   "cell_type": "code",
   "execution_count": 18,
   "metadata": {},
   "outputs": [
    {
     "data": {
      "text/html": [
       "<div>\n",
       "<style scoped>\n",
       "    .dataframe tbody tr th:only-of-type {\n",
       "        vertical-align: middle;\n",
       "    }\n",
       "\n",
       "    .dataframe tbody tr th {\n",
       "        vertical-align: top;\n",
       "    }\n",
       "\n",
       "    .dataframe thead th {\n",
       "        text-align: right;\n",
       "    }\n",
       "</style>\n",
       "<table border=\"1\" class=\"dataframe\">\n",
       "  <thead>\n",
       "    <tr style=\"text-align: right;\">\n",
       "      <th></th>\n",
       "      <th>city</th>\n",
       "      <th>stationName</th>\n",
       "      <th>result</th>\n",
       "      <th>resultTime</th>\n",
       "    </tr>\n",
       "  </thead>\n",
       "  <tbody>\n",
       "    <tr>\n",
       "      <th>17</th>\n",
       "      <td>桃園市</td>\n",
       "      <td>大園</td>\n",
       "      <td>23</td>\n",
       "      <td>2022-06-19T05:00:00.000Z</td>\n",
       "    </tr>\n",
       "    <tr>\n",
       "      <th>14</th>\n",
       "      <td>臺北市</td>\n",
       "      <td>松山</td>\n",
       "      <td>22</td>\n",
       "      <td>2022-06-19T05:00:00.000Z</td>\n",
       "    </tr>\n",
       "    <tr>\n",
       "      <th>10</th>\n",
       "      <td>臺北市</td>\n",
       "      <td>士林</td>\n",
       "      <td>21</td>\n",
       "      <td>2022-06-19T05:00:00.000Z</td>\n",
       "    </tr>\n",
       "    <tr>\n",
       "      <th>33</th>\n",
       "      <td>彰化縣</td>\n",
       "      <td>線西</td>\n",
       "      <td>19</td>\n",
       "      <td>2022-06-19T05:00:00.000Z</td>\n",
       "    </tr>\n",
       "    <tr>\n",
       "      <th>30</th>\n",
       "      <td>臺中市</td>\n",
       "      <td>忠明</td>\n",
       "      <td>19</td>\n",
       "      <td>2022-06-19T05:00:00.000Z</td>\n",
       "    </tr>\n",
       "    <tr>\n",
       "      <th>...</th>\n",
       "      <td>...</td>\n",
       "      <td>...</td>\n",
       "      <td>...</td>\n",
       "      <td>...</td>\n",
       "    </tr>\n",
       "    <tr>\n",
       "      <th>4</th>\n",
       "      <td>新北市</td>\n",
       "      <td>土城</td>\n",
       "      <td>8</td>\n",
       "      <td>2022-06-19T05:00:00.000Z</td>\n",
       "    </tr>\n",
       "    <tr>\n",
       "      <th>63</th>\n",
       "      <td>宜蘭縣</td>\n",
       "      <td>宜蘭</td>\n",
       "      <td>7</td>\n",
       "      <td>2022-06-19T05:00:00.000Z</td>\n",
       "    </tr>\n",
       "    <tr>\n",
       "      <th>69</th>\n",
       "      <td>高雄市</td>\n",
       "      <td>復興</td>\n",
       "      <td>7</td>\n",
       "      <td>2022-06-19T05:00:00.000Z</td>\n",
       "    </tr>\n",
       "    <tr>\n",
       "      <th>64</th>\n",
       "      <td>宜蘭縣</td>\n",
       "      <td>冬山</td>\n",
       "      <td>6</td>\n",
       "      <td>2022-06-19T05:00:00.000Z</td>\n",
       "    </tr>\n",
       "    <tr>\n",
       "      <th>72</th>\n",
       "      <td>臺東縣</td>\n",
       "      <td>關山</td>\n",
       "      <td>5</td>\n",
       "      <td>2022-06-19T05:00:00.000Z</td>\n",
       "    </tr>\n",
       "  </tbody>\n",
       "</table>\n",
       "<p>77 rows × 4 columns</p>\n",
       "</div>"
      ],
      "text/plain": [
       "   city stationName  result                resultTime\n",
       "17  桃園市          大園      23  2022-06-19T05:00:00.000Z\n",
       "14  臺北市          松山      22  2022-06-19T05:00:00.000Z\n",
       "10  臺北市          士林      21  2022-06-19T05:00:00.000Z\n",
       "33  彰化縣          線西      19  2022-06-19T05:00:00.000Z\n",
       "30  臺中市          忠明      19  2022-06-19T05:00:00.000Z\n",
       "..  ...         ...     ...                       ...\n",
       "4   新北市          土城       8  2022-06-19T05:00:00.000Z\n",
       "63  宜蘭縣          宜蘭       7  2022-06-19T05:00:00.000Z\n",
       "69  高雄市          復興       7  2022-06-19T05:00:00.000Z\n",
       "64  宜蘭縣          冬山       6  2022-06-19T05:00:00.000Z\n",
       "72  臺東縣          關山       5  2022-06-19T05:00:00.000Z\n",
       "\n",
       "[77 rows x 4 columns]"
      ]
     },
     "execution_count": 18,
     "metadata": {},
     "output_type": "execute_result"
    }
   ],
   "source": [
    "df1.sort_values('result',ascending=False)"
   ]
  },
  {
   "cell_type": "code",
   "execution_count": null,
   "metadata": {},
   "outputs": [],
   "source": []
  }
 ],
 "metadata": {
  "interpreter": {
   "hash": "a552c2ea7a7b6736ba4a8b66efcb40eda8d77c5e9d980e5b81f29aecaaefb085"
  },
  "kernelspec": {
   "display_name": "Python 3.8.8 ('base')",
   "language": "python",
   "name": "python3"
  },
  "language_info": {
   "codemirror_mode": {
    "name": "ipython",
    "version": 3
   },
   "file_extension": ".py",
   "mimetype": "text/x-python",
   "name": "python",
   "nbconvert_exporter": "python",
   "pygments_lexer": "ipython3",
   "version": "3.8.8"
  },
  "orig_nbformat": 4
 },
 "nbformat": 4,
 "nbformat_minor": 2
}
